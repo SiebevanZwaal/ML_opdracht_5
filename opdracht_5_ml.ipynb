{
 "cells": [
  {
   "cell_type": "code",
   "execution_count": 1,
   "id": "2c801801",
   "metadata": {},
   "outputs": [],
   "source": [
    "import numpy as np\n",
    "import tensorflow as tf\n",
    "from tensorflow.keras.models import Sequential\n",
    "from tensorflow.keras.utils import to_categorical\n",
    "from tensorflow.keras.layers import Dense, Conv2D, MaxPooling2D, Dropout, Flatten\n",
    "from tensorflow.keras.datasets import cifar10"
   ]
  },
  {
   "cell_type": "code",
   "execution_count": 2,
   "id": "bb9d764a",
   "metadata": {},
   "outputs": [],
   "source": [
    "import ssl\n",
    "ssl._create_default_https_context = ssl._create_unverified_context"
   ]
  },
  {
   "cell_type": "markdown",
   "id": "7e78a609",
   "metadata": {},
   "source": [
    "### Data inladen:"
   ]
  },
  {
   "cell_type": "code",
   "execution_count": 3,
   "id": "ca228378",
   "metadata": {},
   "outputs": [],
   "source": [
    "(train_data, train_labels), (test_data, test_labels) = cifar10.load_data()"
   ]
  },
  {
   "cell_type": "code",
   "execution_count": 4,
   "id": "0e54cd13",
   "metadata": {},
   "outputs": [],
   "source": [
    "input_shape = (train_data.shape[1:])\n",
    "\n",
    "# De data moet worden gecast zodat we kunnen normaliseren \n",
    "train_data = train_data.astype('float32')\n",
    "test_data = test_data.astype('float32')"
   ]
  },
  {
   "cell_type": "code",
   "execution_count": 5,
   "id": "f8a013b3",
   "metadata": {},
   "outputs": [],
   "source": [
    "# Omdat de data kleurwaardes heeft van 0 tot 255 ga ik deze normaliseren tussen de 0 en 1 door te delen door 255.\n",
    "train_data /= 255\n",
    "test_data /= 255\n",
    "\n",
    "# Ook heb ik de labels one hot worden ge-encode omdat de labels categorisch zijn en de CNN numerische voorspellingen maakt.\n",
    "train_labels_ohe = to_categorical(train_labels)\n",
    "test_labels_ohe = to_categorical(test_labels)"
   ]
  },
  {
   "cell_type": "code",
   "execution_count": 6,
   "id": "172db1c7",
   "metadata": {},
   "outputs": [],
   "source": [
    "seq_model = Sequential()\n",
    "\n",
    "# Filter layers\n",
    "seq_model.add(Conv2D(32, (3, 3), padding='same', activation='relu', input_shape=input_shape))\n",
    "seq_model.add(Conv2D(32, (3, 3), activation='relu'))\n",
    "seq_model.add(MaxPooling2D(pool_size=(2, 2)))\n",
    "seq_model.add(Dropout(0.25))\n",
    "\n",
    "seq_model.add(Conv2D(64, (3, 3), padding='same', activation='relu'))\n",
    "seq_model.add(Conv2D(64, (3, 3), activation='relu'))\n",
    "seq_model.add(MaxPooling2D(pool_size=(2, 2)))\n",
    "seq_model.add(Dropout(0.25))\n",
    "\n",
    "seq_model.add(Conv2D(128, (3, 3), padding='same', activation='relu'))\n",
    "seq_model.add(Conv2D(128, (3, 3), activation='relu'))\n",
    "seq_model.add(MaxPooling2D(pool_size=(2, 2)))\n",
    "seq_model.add(Dropout(0.25))\n",
    "\n",
    "# Plat slaan van vorige layer\n",
    "seq_model.add(Flatten())\n",
    "\n",
    "# Fully connected layers\n",
    "seq_model.add(Dense(128, activation='relu'))\n",
    "seq_model.add(Dropout(0.25))\n",
    "\n",
    "seq_model.add(Dense(256, activation='relu'))\n",
    "seq_model.add(Dropout(0.25))\n",
    "\n",
    "seq_model.add(Dense(len(np.unique(train_labels)), activation='softmax'))"
   ]
  },
  {
   "cell_type": "code",
   "execution_count": 7,
   "id": "e78eee86",
   "metadata": {},
   "outputs": [
    {
     "name": "stdout",
     "output_type": "stream",
     "text": [
      "Epoch 1/12\n",
      "196/196 [==============================] - 68s 348ms/step - loss: 2.1400 - accuracy: 0.2052 - val_loss: 1.8687 - val_accuracy: 0.3211\n",
      "Epoch 2/12\n",
      "196/196 [==============================] - 67s 340ms/step - loss: 1.7982 - accuracy: 0.3442 - val_loss: 1.6367 - val_accuracy: 0.3992\n",
      "Epoch 3/12\n",
      "196/196 [==============================] - 65s 332ms/step - loss: 1.5880 - accuracy: 0.4193 - val_loss: 1.4958 - val_accuracy: 0.4526\n",
      "Epoch 4/12\n",
      "196/196 [==============================] - 62s 317ms/step - loss: 1.4426 - accuracy: 0.4810 - val_loss: 1.3566 - val_accuracy: 0.4988\n",
      "Epoch 5/12\n",
      "196/196 [==============================] - 64s 329ms/step - loss: 1.3251 - accuracy: 0.5262 - val_loss: 1.1526 - val_accuracy: 0.5865\n",
      "Epoch 6/12\n",
      "196/196 [==============================] - 67s 342ms/step - loss: 1.2214 - accuracy: 0.5703 - val_loss: 1.0618 - val_accuracy: 0.6299\n",
      "Epoch 7/12\n",
      "196/196 [==============================] - 62s 315ms/step - loss: 1.1319 - accuracy: 0.6012 - val_loss: 1.1343 - val_accuracy: 0.6015\n",
      "Epoch 8/12\n",
      "196/196 [==============================] - 63s 320ms/step - loss: 1.0685 - accuracy: 0.6286 - val_loss: 1.0506 - val_accuracy: 0.6374\n",
      "Epoch 9/12\n",
      "196/196 [==============================] - 64s 327ms/step - loss: 0.9985 - accuracy: 0.6518 - val_loss: 1.0536 - val_accuracy: 0.6324\n",
      "Epoch 10/12\n",
      "196/196 [==============================] - 66s 337ms/step - loss: 0.9375 - accuracy: 0.6727 - val_loss: 0.8784 - val_accuracy: 0.6931\n",
      "Epoch 11/12\n",
      "196/196 [==============================] - 64s 327ms/step - loss: 0.8826 - accuracy: 0.6953 - val_loss: 0.8726 - val_accuracy: 0.6983\n",
      "Epoch 12/12\n",
      "196/196 [==============================] - 62s 319ms/step - loss: 0.8372 - accuracy: 0.7126 - val_loss: 0.9156 - val_accuracy: 0.6861\n",
      "313/313 [==============================] - 3s 11ms/step - loss: 0.9156 - accuracy: 0.6861\n"
     ]
    },
    {
     "data": {
      "text/plain": [
       "[0.9155623316764832, 0.6861000061035156]"
      ]
     },
     "execution_count": 7,
     "metadata": {},
     "output_type": "execute_result"
    }
   ],
   "source": [
    "seq_model.compile(loss='categorical_crossentropy', metrics=['accuracy'])\n",
    "\n",
    "# Trainen van de CNN\n",
    "history = seq_model.fit(train_data, train_labels_ohe, batch_size=256, epochs=12, validation_data=(test_data, test_labels_ohe))\n",
    "\n",
    "# Evaluate om te kijken wat de accuracy is\n",
    "seq_model.evaluate(test_data, test_labels_ohe)"
   ]
  },
  {
   "cell_type": "code",
   "execution_count": null,
   "id": "2aa5699f",
   "metadata": {},
   "outputs": [],
   "source": []
  }
 ],
 "metadata": {
  "kernelspec": {
   "display_name": "Python 3",
   "language": "python",
   "name": "python3"
  },
  "language_info": {
   "codemirror_mode": {
    "name": "ipython",
    "version": 3
   },
   "file_extension": ".py",
   "mimetype": "text/x-python",
   "name": "python",
   "nbconvert_exporter": "python",
   "pygments_lexer": "ipython3",
   "version": "3.8.8"
  }
 },
 "nbformat": 4,
 "nbformat_minor": 5
}
